{
 "cells": [
  {
   "cell_type": "markdown",
   "metadata": {},
   "source": [
    "# SETUP FOR SUPPORTING QUERIES OF IFCOWL GEOMETRIES CONVERTED INTO GEOSPARQL\n",
    "\n",
    "## Introduction\n",
    "\n",
    "This notebook tutorial aims to provide the reader with a step-by-step tutorial for converting ifcOWL IfcStandardWallCase geometries into GeoSPARQL and export them as ifcOWL with added GeoSPARQL and also BOT with GeoSPARQL. You will also learn how to write and execute some simple GeoSPARQL queries.\n",
    "\n",
    "The objectives of the tutorial are as follows:\n",
    "\n",
    "* Show how to download and execute the Jena code base for adding GeoSPARQL to a sample ifcOWL and BOT model;  \n",
    "* Demonstrate some simple geospatial queries over the resulting data."
   ]
  },
  {
   "cell_type": "markdown",
   "metadata": {},
   "source": [
    "# CHOOSING AN APPROPRIATE IFCOWL FILE\n",
    "\n",
    "The code you are going to use in this tutorial is still in development, and as such has only been tested on a small range of IFC Models which can be found [here](http://smartlab1.elis.ugent.be:8889/IFC-repo/) and which are named in Table 1. \n",
    "\n",
    "The previous site also provides a method for converting IFC step files into RDF, the source code of which is available here: [TBD]()\n",
    "\n",
    "**Table 1:**  \n",
    "\n",
    "| File Name | RF Triple Count | Wall Count | Building Storey Count |\n",
    "|:-|:-|:-|:-|\n",
    "| smallhouse_saref.tll | 100246 | 6 | 1 |\n",
    "| Duplex_A_20110907_optimized.ttl | 205141 | 56 | 4 |\n",
    "| Simple3-storeytestbuilding.ttl | 222545 | 21 | 3 |\n",
    "| 20170804_Musterhaus_MIT.ttl | 239899 | 24 | 3 |\n",
    "| AC20-FZK Haus.ttl | 239899 | 13 | 2 |\n",
    "| Barcelona_Pavilion.ttl | 1033905 | 35 | 2 |\n",
    "\n",
    "Save your file as “test_file.ttl” or someother name. In this tutorial we will use the name “test_file.ttl” to indicate the ifcowl file."
   ]
  },
    },
    {
   "cell_type": "markdown",
   "metadata": {},
   "source": [
    "## STEP 1: DOWNLOAD AND INSTALL THE CONVERTOR",
	"You can access the code from github at the following address: ",
	"Clone the project onto your computer and open it in your favorite IDE. 
	I use netbeans (https://netbeans.org/).",
	"Alternatively, you can download the jar file and its dependencies from 
	the following location: www.xyz.com"
   ] 
  {
   "cell_type": "code",
   "execution_count": null,
   "metadata": {},
   "outputs": [],
   "source": []
  }
 ],
 "metadata": {
  "kernelspec": {
   "display_name": "Python 3",
   "language": "python",
   "name": "python3"
  },
  "language_info": {
   "codemirror_mode": {
    "name": "ipython",
    "version": 3
   },
   "file_extension": ".py",
   "mimetype": "text/x-python",
   "name": "python",
   "nbconvert_exporter": "python",
   "pygments_lexer": "ipython3",
   "version": "3.7.0"
  }
 },
 "nbformat": 4,
 "nbformat_minor": 2
}
